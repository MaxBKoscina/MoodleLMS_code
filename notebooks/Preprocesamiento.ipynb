{
  "nbformat": 4,
  "nbformat_minor": 0,
  "metadata": {
    "colab": {
      "private_outputs": true,
      "provenance": []
    },
    "kernelspec": {
      "name": "python3",
      "display_name": "Python 3"
    },
    "language_info": {
      "name": "python"
    }
  },
  "cells": [
    {
      "cell_type": "code",
      "execution_count": null,
      "metadata": {
        "id": "upBHZrWcFi7F"
      },
      "outputs": [],
      "source": [
        "import pandas as pd\n",
        "import numpy as np\n",
        "import matplotlib.pyplot as plt"
      ]
    },
    {
      "cell_type": "code",
      "source": [
        "from google.colab import drive\n",
        "# Monta el Google Drive\n",
        "drive.mount('/content/drive')"
      ],
      "metadata": {
        "id": "wYmY1jOZFm53"
      },
      "execution_count": null,
      "outputs": []
    },
    {
      "cell_type": "code",
      "source": [
        "base =  pd.read_csv('/content/drive/MyDrive/Seminario de Titulo - Prof Roberto Muñoz/Maximiliano -  Generación y Análisis de Secuencias de Actividad/logs/Logs-FundaProgra-2024-1.csv') #Aca se pone la ruta del logs si es CSV O EXCEL"
      ],
      "metadata": {
        "id": "W3_A5Vf6Fokv"
      },
      "execution_count": null,
      "outputs": []
    },
    {
      "cell_type": "code",
      "source": [
        "base"
      ],
      "metadata": {
        "id": "h_wbPVcrIPSf"
      },
      "execution_count": null,
      "outputs": []
    },
    {
      "cell_type": "code",
      "source": [
        "base.info()"
      ],
      "metadata": {
        "id": "-5lTn3UGF4KA"
      },
      "execution_count": null,
      "outputs": []
    },
    {
      "cell_type": "code",
      "source": [
        "base.describe()"
      ],
      "metadata": {
        "id": "oVIk6h8cGB9q"
      },
      "execution_count": null,
      "outputs": []
    },
    {
      "cell_type": "code",
      "source": [
        "\n",
        "eventos_profesor_out= [\n",
        "\"Lista de usuarios vista\", \"Preguntas exportadas\",\"Pregunta creada\",\"Intento de cuestionario recalificado\",\"Pregunta calificada manualmente\",\n",
        "\"Rol sin asignar\",\"Matriculación del usuario actualizada\",\"Evento de calendario borrado\",\"Elemento de calificación eliminado\",\"Calificación borrada\",\n",
        "\"Pregunta actualizada\",\"Categoría de preguntas creada\",\"Categoría de preguntas actualizada\",\"Pregunta movida\",\"Rol asignado\",\"Usuario matriculado en el curso\",\n",
        " \"Categoría de preguntas borrada\",\"Categoría de preguntas movida\",\"Preguntas importadas\",\"Sección de curso eliminada\",\"Instancia de inscripcion cerrada\"\n",
        "]\n"
      ],
      "metadata": {
        "id": "dm4U_vrxGOUw"
      },
      "execution_count": null,
      "outputs": []
    },
    {
      "cell_type": "code",
      "source": [
        "print(len(base['Nombre evento'].unique()))"
      ],
      "metadata": {
        "id": "VGs4BTyMJfTt"
      },
      "execution_count": null,
      "outputs": []
    },
    {
      "cell_type": "code",
      "source": [
        "# --- ¡¡¡CORRECCIÓN AQUÍ!!! Limpiar 'Nombre evento' ANTES de filtrar ---\n",
        "# Estandarizar la columna 'Nombre evento' para asegurar coincidencias\n",
        "if 'Nombre evento' in base.columns:\n",
        "    print(\"\\nDEBUG: Limpiando columna 'Nombre evento' para el filtrado...\")\n",
        "    base['Nombre evento'] = base['Nombre evento'].astype(str).str.strip().str.lower()\n",
        "    # Estandarizar también la lista de eventos_profesor_out a minúsculas\n",
        "    eventos_profesor_out_lower = [e.lower() for e in eventos_profesor_out]\n",
        "else:\n",
        "    print(\"❌ ERROR: La columna 'Nombre evento' no existe. No se puede filtrar eventos de profesor.\")\n",
        "    eventos_profesor_out_lower = [] # Vacía para evitar errores si la columna no existe\n"
      ],
      "metadata": {
        "id": "Czy0OSOwKTzh"
      },
      "execution_count": null,
      "outputs": []
    },
    {
      "cell_type": "code",
      "source": [
        "base = base[~base['Nombre evento'].isin(eventos_profesor_out)]\n",
        "\n",
        "\n",
        "\n"
      ],
      "metadata": {
        "id": "0R7clJhEGPeP"
      },
      "execution_count": null,
      "outputs": []
    },
    {
      "cell_type": "code",
      "source": [
        "print(len(base['Nombre evento'].unique()))"
      ],
      "metadata": {
        "id": "vqeLf-AoI8vV"
      },
      "execution_count": null,
      "outputs": []
    },
    {
      "cell_type": "code",
      "source": [
        "# Verificar si las columnas existen en el DataFrame antes de eliminarlas\n",
        "columnas_a_eliminar = ['Dirección IP', 'Origen', 'Usuario afectado', 'Descripción']\n",
        "columnas_existentes = [col for col in columnas_a_eliminar if col in base.columns]\n",
        "# Eliminar las columnas que existen\n",
        "base = base.drop(columns=columnas_existentes)\n"
      ],
      "metadata": {
        "id": "i2I4zvbMGQ0-"
      },
      "execution_count": null,
      "outputs": []
    },
    {
      "cell_type": "code",
      "source": [
        "# Verificar las columnas restantes\n",
        "print(base.columns)\n"
      ],
      "metadata": {
        "id": "QrcG0nouGSvI"
      },
      "execution_count": null,
      "outputs": []
    },
    {
      "cell_type": "code",
      "source": [
        "# Convertir la columna de fecha y hora (supongamos que se llama 'hora')\n",
        "#base['Fecha'] = pd.to_datetime(base['Fecha'], format='%d/%m/%y', errors='coerce')  # Convierte la columna 'Fecha'\n",
        "#base['Hora'] = pd.to_datetime(base['Hora'], format='%H:%M:%S', errors='coerce').dt.time\n",
        "base['Nombre completo del usuario'] = base['Nombre completo del usuario'].astype('string')\n",
        "base['Contexto del evento'] = base['Contexto del evento'].astype('string')\n",
        "base['Componente'] = base['Componente'].astype('category')\n",
        "base['Nombre evento'] = base['Nombre evento'].astype('category')\n",
        "\n"
      ],
      "metadata": {
        "id": "9tz0XB5XGTrD"
      },
      "execution_count": null,
      "outputs": []
    },
    {
      "cell_type": "markdown",
      "source": [
        "Nulls y duplicados"
      ],
      "metadata": {
        "id": "QJFa7E47GVK0"
      }
    },
    {
      "cell_type": "code",
      "source": [
        "#Duplicados\n",
        "duplicados = base.duplicated().sum()\n",
        "print(f\"Número de duplicados: {duplicados}\")\n"
      ],
      "metadata": {
        "id": "UJelkYXqGXL9"
      },
      "execution_count": null,
      "outputs": []
    },
    {
      "cell_type": "code",
      "source": [
        "base = base.drop_duplicates()\n"
      ],
      "metadata": {
        "id": "RJrZu-WPGYMO"
      },
      "execution_count": null,
      "outputs": []
    },
    {
      "cell_type": "code",
      "source": [
        "#Duplicados\n",
        "duplicados = base.duplicated().sum()\n",
        "print(f\"Número de duplicados: {duplicados}\")"
      ],
      "metadata": {
        "id": "HtY3XTSlKJ-i"
      },
      "execution_count": null,
      "outputs": []
    },
    {
      "cell_type": "code",
      "source": [
        "base"
      ],
      "metadata": {
        "id": "dFkINlRBKLGs"
      },
      "execution_count": null,
      "outputs": []
    },
    {
      "cell_type": "code",
      "source": [
        "# Verificar valores duplicados tras la limpieza\n",
        "faltantes = base.isnull().sum()\n",
        "print(f\"Datos faltantes por columna:\\n{faltantes}\")"
      ],
      "metadata": {
        "id": "UDobNtaEGYkN"
      },
      "execution_count": null,
      "outputs": []
    },
    {
      "cell_type": "code",
      "source": [
        "# Verificar valores nulos tras la limpieza\n",
        "base = base.dropna()"
      ],
      "metadata": {
        "id": "ivtvSkneGiOm"
      },
      "execution_count": null,
      "outputs": []
    },
    {
      "cell_type": "code",
      "source": [],
      "metadata": {
        "id": "TNyZeTxbGqMD"
      },
      "execution_count": null,
      "outputs": []
    },
    {
      "cell_type": "markdown",
      "source": [
        "Cambio de nombres de los alumnos"
      ],
      "metadata": {
        "id": "ZA7GCLkyGs1b"
      }
    },
    {
      "cell_type": "code",
      "source": [
        "base['Nombre completo del usuario'] = (\n",
        "    base['Nombre completo del usuario']\n",
        "    .str.strip()             # Elimina espacios al inicio y al final\n",
        "    .str.replace(r'\\s+', ' ', regex=True)  # Sustituye múltiples espacios por uno solo\n",
        "    .str.lower()             # Convierte a minúsculas\n",
        ")"
      ],
      "metadata": {
        "id": "AxiXl-YdGvrT"
      },
      "execution_count": null,
      "outputs": []
    },
    {
      "cell_type": "code",
      "source": [
        "base"
      ],
      "metadata": {
        "id": "yiTjccjzGyNg"
      },
      "execution_count": null,
      "outputs": []
    },
    {
      "cell_type": "code",
      "source": [
        "# Verificar cuántos valores únicos quedan en la columna 'Nombre completo del usuario'\n",
        "numero_unicos = len(base['Nombre completo del usuario'].unique())\n",
        "\n",
        "# Mostrar el número de valores únicos\n",
        "print(f\"Cantidad de valores únicos en 'Nombre completo del usuario': {numero_unicos}\")"
      ],
      "metadata": {
        "id": "AOK2t7dmG4sZ"
      },
      "execution_count": null,
      "outputs": []
    },
    {
      "cell_type": "markdown",
      "source": [
        "Eliminar profesores, ayudantes ,etc"
      ],
      "metadata": {
        "id": "4dy7DTEFG7VV"
      }
    },
    {
      "cell_type": "code",
      "source": [
        "lista_profesor = ['Roberto Muñoz','Pablo Olivares','Rodrigo Olivares','Gabriel Astudillo','Victor Rios','Daniel Diaz','Dayanna Palma','Victor Rios','Maximo Martinez','Giglia Gomez','Claudia Araya','Marta Barria','Rosa Velasquez','Yaravi Villegas','Maximo Perez','Diego Miranda','Igor Vega','Claudio Araya','Francisco Muñoz','Benjamin Serrano','Admin user','italo vergara']\n",
        "lista_profesor = [nombre.lower() for nombre in lista_profesor]\n",
        "lista_profesor\n"
      ],
      "metadata": {
        "id": "PeXRIE1TG-UN"
      },
      "execution_count": null,
      "outputs": []
    },
    {
      "cell_type": "code",
      "source": [
        "# Función para extraer el primer nombre y primer apellido\n",
        "def extract_nombre_apellido(row):\n",
        "    name_parts = row.split()  # Dividir el nombre completo en partes\n",
        "    #print(f'name: {name_parts}')\n",
        "    # Tomar el primer nombre\n",
        "    primer_nombre = name_parts[0]\n",
        "\n",
        "    primer_apellido = name_parts[2] if len(name_parts) > 3 else (name_parts[1] if len(name_parts) > 1 else '')\n",
        "\n",
        "    #return primer_nombre, primer_apellido\n",
        "\n",
        "\n",
        "    # Concatenar el primer nombre y el primer apellido\n",
        "    return f\"{primer_nombre} {primer_apellido}\".lower()\n",
        "\n",
        "# Aplicar la función para crear la columna 'Nombre_apellido' en el dataframe\n",
        "base['Nombre_apellido'] = base['Nombre completo del usuario'].apply(extract_nombre_apellido)\n",
        "\n",
        "\n",
        "# Filtrar las filas del dataframe que NO contienen nombres de profesores\n",
        "df_filtrado = base[~base['Nombre_apellido'].isin(lista_profesor)]\n",
        "\n",
        "\n",
        "df_filtrado = df_filtrado.drop('Nombre_apellido', axis=1)\n",
        "\n",
        "# Verificar el resultado\n",
        "df_filtrado"
      ],
      "metadata": {
        "id": "b82-WSB7HAKC"
      },
      "execution_count": null,
      "outputs": []
    },
    {
      "cell_type": "code",
      "source": [
        "\n",
        "# Verificar cuántos valores únicos quedan en la columna 'Nombre completo del usuario'\n",
        "numero_unicos2 = len(df_filtrado['Nombre completo del usuario'].unique())\n",
        "\n",
        "# Mostrar el número de valores únicos\n",
        "print(f\"Cantidad de valores únicos en 'Nombre completo del usuario': {numero_unicos2}\")\n"
      ],
      "metadata": {
        "id": "QcGuCV38HBdR"
      },
      "execution_count": null,
      "outputs": []
    },
    {
      "cell_type": "markdown",
      "source": [
        "Habian nombres con  - , admin user que fue encontrado dsp y fueron eliminados"
      ],
      "metadata": {
        "id": "Li-SjN4xHKUR"
      }
    },
    {
      "cell_type": "code",
      "source": [
        "# Filtrar filas donde 'Nombre completo del usuario' NO contiene ciertos nombres\n",
        "df_filtrado = df_filtrado[\n",
        "    ~df_filtrado['Nombre completo del usuario'].str.contains('admin user|italo vergara|-', case=False, na=False)\n",
        "].copy()\n",
        "\n",
        "\n",
        "# Verificar que se eliminaron correctamente\n",
        "print(df_filtrado.shape)  # Verifica cantidad de filas y columnas después de la limpieza\n",
        "print(df_filtrado['Nombre completo del usuario'].unique())  # Confirma que ya no existen nombres con 'admin user'"
      ],
      "metadata": {
        "id": "OFJRF_SVHGUV"
      },
      "execution_count": null,
      "outputs": []
    },
    {
      "cell_type": "code",
      "source": [
        "# Ordenar por Nombre completo del usuario y Fecha\n",
        "df_filtrado = df_filtrado.sort_values(by=['Nombre completo del usuario', 'Fecha'])"
      ],
      "metadata": {
        "id": "Wh8g7w3OHIqv"
      },
      "execution_count": null,
      "outputs": []
    },
    {
      "cell_type": "markdown",
      "source": [
        "#Definir semana del semestre - dependiendo del semestre 1 o 2"
      ],
      "metadata": {
        "id": "uEhCY-zCHa6s"
      }
    },
    {
      "cell_type": "code",
      "source": [
        "df_filtrado['Fecha'] = pd.to_datetime(df_filtrado['Fecha'], errors='coerce')\n",
        "\n",
        "# Encontrar el primer log del semestre\n",
        "primer_log = df_filtrado['Fecha'].min()\n",
        "\n",
        "# Determinar si es el primer o segundo semestre en base al primer log\n",
        "if primer_log.month <= 7:  # Primer semestre (marzo a julio)\n",
        "    # Obtener el último log de julio\n",
        "    ultimo_log_julio = df_filtrado[(df_filtrado['Fecha'].dt.month == 7) & (df_filtrado['Fecha'].dt.year == primer_log.year)]['Fecha'].max()\n",
        "    # Definir el inicio del semestre (primer log) y el fin del semestre (último log de julio)\n",
        "    inicio_semestre = primer_log\n",
        "    fin_semestre = ultimo_log_julio\n",
        "else:  # Segundo semestre (agosto a diciembre)\n",
        "    # Obtener el último log de diciembre\n",
        "    ultimo_log_agosto = df_filtrado[(df_filtrado['Fecha'].dt.month == 12) & (df_filtrado['Fecha'].dt.year == primer_log.year)]['Fecha'].max()\n",
        "    # Definir el inicio del semestre (primer log) y el fin del semestre (último log de agosto)\n",
        "    inicio_semestre = primer_log\n",
        "    fin_semestre = ultimo_log_agosto\n",
        "\n",
        "# Filtrar los logs entre el primer log y el final del semestre (último log de julio o agosto)\n",
        "df_filtrado = df_filtrado[(df_filtrado['Fecha'] >= inicio_semestre) & (df_filtrado['Fecha'] <= fin_semestre)]\n",
        "\n",
        "# Ahora calculamos la semana del semestre con base en el primer log\n",
        "df_filtrado['semana_semestre'] = ((df_filtrado['Fecha'] - inicio_semestre).dt.days // 7) + 1\n",
        "\n",
        "# Verificar el resultado\n",
        "print(df_filtrado[['Nombre completo del usuario', 'Fecha', 'semana_semestre']].head())\n"
      ],
      "metadata": {
        "id": "_WunHEHrHdto"
      },
      "execution_count": null,
      "outputs": []
    },
    {
      "cell_type": "markdown",
      "source": [
        "Verificar que semana es la semana del segundo certamen"
      ],
      "metadata": {
        "id": "j-UNlTjXHkd7"
      }
    },
    {
      "cell_type": "code",
      "source": [
        "# Contamos las interacciones de cada alumno por semana\n",
        "df_filtrado['week_logs'] = df_filtrado.groupby(['Nombre completo del usuario', 'semana_semestre'])['semana_semestre'].transform('count')\n",
        "\n",
        "\n",
        "#Verificar cuando es el 2 certamen\n",
        "\n",
        "# Filtrar los logs hasta la semana 13 (antes del segundo certamen)\n",
        "# Se corrige el nombre de la variable de df_max_week_logs_per_week a df_filtrado\n",
        "# Se corrige semana_semestre.max() a df_filtrado['semana_semestre'].max()\n",
        "df_filtered_logs = df_filtrado[df_filtrado['semana_semestre'] <= df_filtrado['semana_semestre'].max()]\n",
        "\n",
        "# Agrupar los logs por semana para ver la cantidad total de logs (máximo por estudiante)\n",
        "# Se usa df_filtered_logs que ya tiene la columna 'week_logs'\n",
        "logs_per_week_filtered = df_filtered_logs.groupby('semana_semestre')['week_logs'].sum()\n",
        "\n",
        "# Graficar los logs de la semana 1 a la semana 13\n",
        "\n",
        "plt.figure(figsize=(10, 6))\n",
        "logs_per_week_filtered.plot(kind='bar', color='lightgreen')\n",
        "plt.title('Cantidad de logs por semana (Semana 1 a Semana 13)')\n",
        "plt.xlabel('Semana del semestre')\n",
        "plt.ylabel('Cantidad total de logs (máximo por estudiante)')\n",
        "plt.xticks(rotation=45)\n",
        "plt.show()"
      ],
      "metadata": {
        "id": "8w4iLcFJHpZQ"
      },
      "execution_count": null,
      "outputs": []
    },
    {
      "cell_type": "markdown",
      "source": [
        "Identificado cuando fue el segundo certame, se redujo el dataset hasta la semana"
      ],
      "metadata": {
        "id": "vXq-QhmfHsGH"
      }
    },
    {
      "cell_type": "code",
      "source": [
        "#Identificar semana del 2 certmaen\n",
        "\n",
        "df_filtrado2 = df_filtrado[df_filtrado['semana_semestre'] <= 13].copy() #aca va la semana del 2 certmaen"
      ],
      "metadata": {
        "id": "8PR61Wh3H00J"
      },
      "execution_count": null,
      "outputs": []
    },
    {
      "cell_type": "code",
      "source": [
        "df_filtrado2.shape"
      ],
      "metadata": {
        "id": "gf1r5F9OIWCW"
      },
      "execution_count": null,
      "outputs": []
    },
    {
      "cell_type": "code",
      "source": [
        "df_filtrado2"
      ],
      "metadata": {
        "id": "sDILCMCTLJac"
      },
      "execution_count": null,
      "outputs": []
    },
    {
      "cell_type": "code",
      "source": [
        "# Guardar el DataFrame en un archivo CSV\n",
        "df_filtrado2.to_csv('/content/drive/MyDrive/Seminario de Titulo - Prof Roberto Muñoz/Maximiliano -  Generación y Análisis de Secuencias de Actividad/logs/df_semestre_full_2024_S1_test.csv', index=False)\n",
        "\n",
        "print(\"Archivo CSV guardado correctamente.\")"
      ],
      "metadata": {
        "id": "WzWdvM7WLePs"
      },
      "execution_count": null,
      "outputs": []
    }
  ]
}